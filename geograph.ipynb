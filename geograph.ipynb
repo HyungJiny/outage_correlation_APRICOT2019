{
 "cells": [
  {
   "cell_type": "code",
   "execution_count": 1,
   "metadata": {},
   "outputs": [],
   "source": [
    "import json"
   ]
  },
  {
   "cell_type": "code",
   "execution_count": 2,
   "metadata": {},
   "outputs": [],
   "source": [
    "with open('./africa_codes.txt', 'r') as code_file:\n",
    "    code_list = [code.strip() for code in code_file.readlines()]"
   ]
  },
  {
   "cell_type": "code",
   "execution_count": 3,
   "metadata": {},
   "outputs": [],
   "source": [
    "all_data = {}\n",
    "for code in code_list:\n",
    "    with open('./africa/'+code+'.json', 'r') as json_file:\n",
    "        all_data[code] = json.load(json_file)"
   ]
  },
  {
   "cell_type": "code",
   "execution_count": 4,
   "metadata": {},
   "outputs": [
    {
     "data": {
      "text/plain": [
       "{'meta': {'country': 'DZ',\n",
       "  'start': '2014-01-01T00:00:00',\n",
       "  'stop': '2019-02-23T15:43:09'},\n",
       " 'isps': [{'asn': 36947,\n",
       "   'pct': 51.63580278889584,\n",
       "   'name': 'ALGTEL-AS',\n",
       "   'outages': [['2014-02-01T08:00:00', '2014-03-01T00:00:00'],\n",
       "    ['2014-06-05T00:00:00', '2014-06-06T00:00:00'],\n",
       "    ['2015-09-04T16:00:00', '2015-09-05T00:00:00'],\n",
       "    ['2015-12-16T08:00:00', '2015-12-17T00:00:00']]},\n",
       "  {'asn': 327712,\n",
       "   'pct': 22.264507288802015,\n",
       "   'name': 'ATM',\n",
       "   'outages': [['2014-06-05T00:00:00', '2014-06-06T00:00:00'],\n",
       "    ['2014-09-17T08:00:00', '2014-09-17T16:00:00'],\n",
       "    ['2014-12-04T00:00:00', '2014-12-04T08:00:00'],\n",
       "    ['2015-06-14T16:00:00', '2015-06-15T00:00:00'],\n",
       "    ['2015-09-04T16:00:00', '2015-09-05T00:00:00'],\n",
       "    ['2015-12-16T08:00:00', '2015-12-17T00:00:00']]},\n",
       "  {'asn': 327931,\n",
       "   'pct': 13.55176908516527,\n",
       "   'name': 'Optimum-Telecom-Algeria',\n",
       "   'outages': [['2015-12-16T08:00:00', '2015-12-17T00:00:00']]},\n",
       "  {'asn': 33779,\n",
       "   'pct': 12.075513761640384,\n",
       "   'name': 'wataniya-telecom-as',\n",
       "   'outages': [['2014-02-01T08:00:00', '2014-03-01T00:00:00'],\n",
       "    ['2014-06-05T00:00:00', '2014-06-06T00:00:00'],\n",
       "    ['2015-09-04T16:00:00', '2015-09-05T00:00:00'],\n",
       "    ['2015-12-16T08:00:00', '2015-12-17T00:00:00']]}]}"
      ]
     },
     "execution_count": 4,
     "metadata": {},
     "output_type": "execute_result"
    }
   ],
   "source": [
    "all_data[code_list[0]]"
   ]
  },
  {
   "cell_type": "code",
   "execution_count": 5,
   "metadata": {},
   "outputs": [],
   "source": [
    "all_outages = []\n",
    "for code in code_list:\n",
    "    for isps in all_data[code]['isps']:\n",
    "        all_outages += isps['outages']"
   ]
  },
  {
   "cell_type": "code",
   "execution_count": 18,
   "metadata": {},
   "outputs": [
    {
     "name": "stdout",
     "output_type": "stream",
     "text": [
      "124\n",
      "4.666666666666667\n"
     ]
    }
   ],
   "source": [
    "all_as_name = []\n",
    "the_number_of_ass = []\n",
    "for code in code_list:\n",
    "    the_number_of_ass.append(len(all_data[code]['isps']))\n",
    "    for isps in all_data[code]['isps']:\n",
    "        all_as_name.append(isps['name'])\n",
    "print(len(list(set(all_as_name))))\n",
    "print(sum(the_number_of_ass) / len(the_number_of_ass))"
   ]
  },
  {
   "cell_type": "code",
   "execution_count": 77,
   "metadata": {},
   "outputs": [],
   "source": [
    "outage_number = []\n",
    "texts = []\n",
    "for code in code_list:\n",
    "    the_number_of_ass.append(len(all_data[code]['isps']))\n",
    "    result = 0\n",
    "    text = \"\"\n",
    "    for isps in all_data[code]['isps']:\n",
    "        result += len(isps['outages'])\n",
    "        text += isps['name'] + '\\n'\n",
    "    outage_number.append(result)\n",
    "    texts.append(text)"
   ]
  },
  {
   "cell_type": "code",
   "execution_count": 83,
   "metadata": {},
   "outputs": [
    {
     "name": "stdout",
     "output_type": "stream",
     "text": [
      "SS\n",
      "[15, 26, 11, 26, 6, 25, 1, 71, 44, 4, 29, 19, 23, 22, 17, 49, 52, 51, 30, 3, 25, 48, 155, 11, 31, 76, 69]\n"
     ]
    }
   ],
   "source": [
    "print(code_list[-5])\n",
    "print(outage_number)"
   ]
  },
  {
   "cell_type": "code",
   "execution_count": 89,
   "metadata": {},
   "outputs": [
    {
     "data": {
      "image/png": "[encoded data removed]",
      "text/plain": [
       "<Figure size 800x600 with 1 Axes>"
      ]
     },
     "metadata": {
      "needs_background": "light"
     },
     "output_type": "display_data"
    }
   ],
   "source": [
    "import matplotlib.pyplot as plt\n",
    "\n",
    "my_dpi = 94\n",
    "plt.rcParams.update({'font.size': 13})\n",
    "\n",
    "plt.figure(figsize=(800/my_dpi, 600/my_dpi), dpi=my_dpi)\n",
    "plt.bar(code_list, outage_number)\n",
    "\n",
    "plt.ylabel('the number of outages in Africa')\n",
    "plt.xlabel('Code of country')\n",
    "\n",
    "plt.show()"
   ]
  },
  {
   "cell_type": "code",
   "execution_count": 93,
   "metadata": {},
   "outputs": [
    {
     "name": "stdout",
     "output_type": "stream",
     "text": [
      "High five! You successfully sent some data to your account on plotly. View your plot in your browser at https://plot.ly/~HyungJiny/0 or inside your plot.ly account where it is named 'd3-cloropleth-map'\n"
     ]
    },
    {
     "data": {
      "text/html": [
       "<iframe id=\"igraph\" scrolling=\"no\" style=\"border:none;\" seamless=\"seamless\" src=\"https://plot.ly/~HyungJiny/0.embed\" height=\"525px\" width=\"100%\"></iframe>"
      ],
      "text/plain": [
       "<plotly.tools.PlotlyDisplay object>"
      ]
     },
     "execution_count": 93,
     "metadata": {},
     "output_type": "execute_result"
    }
   ],
   "source": [
    "#df = pd.read_csv('https://raw.githubusercontent.com/plotly/datasets/master/2011_us_ag_exports.csv')\n",
    "d = {'code':code_list, 'outages':outage_number, 'text':texts}\n",
    "df = pd.DataFrame(data=d)\n",
    "\n",
    "for col in df.columns:\n",
    "    df[col] = df[col].astype(str)\n",
    "\n",
    "scl = [[0.0, 'rgb(242,240,247)'],[0.2, 'rgb(218,218,235)'],[0.4, 'rgb(188,189,220)'],\\\n",
    "            [0.6, 'rgb(158,154,200)'],[0.8, 'rgb(117,107,177)'],[1.0, 'rgb(84,39,143)']]\n",
    "\n",
    "#df['text'] = df['state'] + '<br>' +\\\n",
    "#    'Beef '+df['beef']+' Dairy '+df['dairy']+'<br>'+\\\n",
    "#    'Fruits '+df['total fruits']+' Veggies ' + df['total veggies']+'<br>'+\\\n",
    "#    'Wheat '+df['wheat']+' Corn '+df['corn']\n",
    "\n",
    "data = [ dict(\n",
    "        type='choropleth',\n",
    "        #colorscale = scl,\n",
    "        autocolorscale = True,\n",
    "        locations = df['code'],\n",
    "        z = df['outages'].astype(float),\n",
    "        text = df['text'],\n",
    "        marker = dict(\n",
    "            line = dict (\n",
    "                color = 'rgb(255,255,255)',\n",
    "                width = 2\n",
    "            ) ),\n",
    "        colorbar = dict(\n",
    "            title = \"the number of outages\")\n",
    "        ) ]\n",
    "\n",
    "layout = dict(\n",
    "        #title = '2011 US Agriculture Exports by State<br>(Hover for breakdown)',\n",
    "        geo = dict(\n",
    "            scope='africa',\n",
    "            projection=dict( type='albers usa' ),\n",
    "            showlakes = True,\n",
    "            lakecolor = 'rgb(255, 255, 255)'),\n",
    "             )\n",
    "    \n",
    "fig = dict( data=data, layout=layout )\n",
    "py.iplot( fig, filename='d3-cloropleth-map' )"
   ]
  },
  {
   "cell_type": "code",
   "execution_count": 98,
   "metadata": {},
   "outputs": [
    {
     "ename": "AttributeError",
     "evalue": "'Location' object has no attribute 'fip'",
     "output_type": "error",
     "traceback": [
      "\u001b[0;31m---------------------------------------------------------------------------\u001b[0m",
      "\u001b[0;31mAttributeError\u001b[0m                            Traceback (most recent call last)",
      "\u001b[0;32m<ipython-input-98-b17d98d0cdfc>\u001b[0m in \u001b[0;36m<module>\u001b[0;34m\u001b[0m\n\u001b[1;32m      1\u001b[0m \u001b[0mlocation\u001b[0m \u001b[0;34m=\u001b[0m \u001b[0mgeolocator\u001b[0m\u001b[0;34m.\u001b[0m\u001b[0mgeocode\u001b[0m\u001b[0;34m(\u001b[0m\u001b[0mcode_list\u001b[0m\u001b[0;34m[\u001b[0m\u001b[0;36m0\u001b[0m\u001b[0;34m]\u001b[0m\u001b[0;34m)\u001b[0m\u001b[0;34m\u001b[0m\u001b[0m\n\u001b[0;32m----> 2\u001b[0;31m \u001b[0mprint\u001b[0m\u001b[0;34m(\u001b[0m\u001b[0mlocation\u001b[0m\u001b[0;34m.\u001b[0m\u001b[0mfip\u001b[0m\u001b[0;34m)\u001b[0m\u001b[0;34m\u001b[0m\u001b[0m\n\u001b[0m",
      "\u001b[0;31mAttributeError\u001b[0m: 'Location' object has no attribute 'fip'"
     ]
    }
   ],
   "source": [
    "location = geolocator.geocode(code_list[0])\n",
    "print(location.fip)"
   ]
  },
  {
   "cell_type": "code",
   "execution_count": 96,
   "metadata": {},
   "outputs": [
    {
     "ename": "TypeError",
     "evalue": "create_choropleth() missing 1 required positional argument: 'fips'",
     "output_type": "error",
     "traceback": [
      "\u001b[0;31m---------------------------------------------------------------------------\u001b[0m",
      "\u001b[0;31mTypeError\u001b[0m                                 Traceback (most recent call last)",
      "\u001b[0;32m<ipython-input-96-89f44da31ee0>\u001b[0m in \u001b[0;36m<module>\u001b[0;34m\u001b[0m\n\u001b[1;32m     14\u001b[0m     \u001b[0mbinning_endpoints\u001b[0m\u001b[0;34m=\u001b[0m\u001b[0;34m[\u001b[0m\u001b[0;36m14348\u001b[0m\u001b[0;34m,\u001b[0m \u001b[0;36m63983\u001b[0m\u001b[0;34m,\u001b[0m \u001b[0;36m134827\u001b[0m\u001b[0;34m,\u001b[0m \u001b[0;36m426762\u001b[0m\u001b[0;34m,\u001b[0m \u001b[0;36m2081313\u001b[0m\u001b[0;34m]\u001b[0m\u001b[0;34m,\u001b[0m \u001b[0mcolorscale\u001b[0m\u001b[0;34m=\u001b[0m\u001b[0mcolorscale\u001b[0m\u001b[0;34m,\u001b[0m\u001b[0;34m\u001b[0m\u001b[0m\n\u001b[1;32m     15\u001b[0m     \u001b[0mcounty_outline\u001b[0m\u001b[0;34m=\u001b[0m\u001b[0;34m{\u001b[0m\u001b[0;34m'color'\u001b[0m\u001b[0;34m:\u001b[0m \u001b[0;34m'rgb(255,255,255)'\u001b[0m\u001b[0;34m,\u001b[0m \u001b[0;34m'width'\u001b[0m\u001b[0;34m:\u001b[0m \u001b[0;36m0.5\u001b[0m\u001b[0;34m}\u001b[0m\u001b[0;34m,\u001b[0m \u001b[0mround_legend_values\u001b[0m\u001b[0;34m=\u001b[0m\u001b[0;32mTrue\u001b[0m\u001b[0;34m,\u001b[0m\u001b[0;34m\u001b[0m\u001b[0m\n\u001b[0;32m---> 16\u001b[0;31m     \u001b[0mlegend_title\u001b[0m\u001b[0;34m=\u001b[0m\u001b[0;34m'Population by County'\u001b[0m\u001b[0;34m,\u001b[0m \u001b[0mtitle\u001b[0m\u001b[0;34m=\u001b[0m\u001b[0;34m'California and Nearby States'\u001b[0m\u001b[0;34m\u001b[0m\u001b[0m\n\u001b[0m\u001b[1;32m     17\u001b[0m )\n\u001b[1;32m     18\u001b[0m \u001b[0mpy\u001b[0m\u001b[0;34m.\u001b[0m\u001b[0miplot\u001b[0m\u001b[0;34m(\u001b[0m\u001b[0mfig\u001b[0m\u001b[0;34m,\u001b[0m \u001b[0mfilename\u001b[0m\u001b[0;34m=\u001b[0m\u001b[0;34m'choropleth_california_and_surr_states_outlines'\u001b[0m\u001b[0;34m)\u001b[0m\u001b[0;34m\u001b[0m\u001b[0m\n",
      "\u001b[0;31mTypeError\u001b[0m: create_choropleth() missing 1 required positional argument: 'fips'"
     ]
    }
   ],
   "source": [
    "import plotly.figure_factory as ff\n",
    "\n",
    "colorscale = [\n",
    "    'rgb(193, 193, 193)',\n",
    "    'rgb(239,239,239)',\n",
    "    'rgb(195, 196, 222)',\n",
    "    'rgb(144,148,194)',\n",
    "    'rgb(101,104,168)',\n",
    "    'rgb(65, 53, 132)'\n",
    "]\n",
    "\n",
    "fig = ff.create_choropleth(\n",
    "    values=df['outages'], scope=code_list,\n",
    "    binning_endpoints=[14348, 63983, 134827, 426762, 2081313], colorscale=colorscale,\n",
    "    county_outline={'color': 'rgb(255,255,255)', 'width': 0.5}, round_legend_values=True,\n",
    "    legend_title='Population by County', title='California and Nearby States'\n",
    ")\n",
    "py.iplot(fig, filename='choropleth_california_and_surr_states_outlines')"
   ]
  },
  {
   "cell_type": "code",
   "execution_count": 6,
   "metadata": {},
   "outputs": [],
   "source": [
    "all_outages_starttime = []\n",
    "for outages in all_outages:\n",
    "    all_outages_starttime.append(outages[0])"
   ]
  },
  {
   "cell_type": "code",
   "execution_count": 7,
   "metadata": {},
   "outputs": [],
   "source": [
    "all_outages_starttime = list(set(all_outages_starttime))"
   ]
  },
  {
   "cell_type": "code",
   "execution_count": 8,
   "metadata": {},
   "outputs": [],
   "source": [
    "outage_groups = {}\n",
    "for starttime in all_outages_starttime:\n",
    "    outage_groups[starttime] = []"
   ]
  },
  {
   "cell_type": "code",
   "execution_count": 9,
   "metadata": {},
   "outputs": [],
   "source": [
    "for code in code_list:\n",
    "    for isps in all_data[code]['isps']:\n",
    "        for outage in isps['outages']:\n",
    "            outage_groups[outage[0]].append(code+'_'+isps['name'])"
   ]
  },
  {
   "cell_type": "code",
   "execution_count": 10,
   "metadata": {},
   "outputs": [],
   "source": [
    "for starttime in all_outages_starttime:\n",
    "    outage_groups[starttime] = list(set(outage_groups[starttime]))"
   ]
  },
  {
   "cell_type": "code",
   "execution_count": 11,
   "metadata": {},
   "outputs": [],
   "source": [
    "for starttime in all_outages_starttime:\n",
    "    if len(outage_groups[starttime]) == 1:\n",
    "        outage_groups.pop(starttime)"
   ]
  },
  {
   "cell_type": "code",
   "execution_count": 12,
   "metadata": {},
   "outputs": [
    {
     "data": {
      "text/plain": [
       "61"
      ]
     },
     "execution_count": 12,
     "metadata": {},
     "output_type": "execute_result"
    }
   ],
   "source": [
    "len(outage_groups.keys())"
   ]
  },
  {
   "cell_type": "code",
   "execution_count": 23,
   "metadata": {},
   "outputs": [
    {
     "name": "stdout",
     "output_type": "stream",
     "text": [
      "대한민국\n",
      "36.5581914\n",
      "127.9408564\n"
     ]
    }
   ],
   "source": [
    "from geopy.geocoders import Nominatim\n",
    "\n",
    "location = geolocator.geocode(\"KR\")\n",
    "print(location.address)\n",
    "print(location.latitude)\n",
    "print(location.longitude)"
   ]
  },
  {
   "cell_type": "code",
   "execution_count": 29,
   "metadata": {},
   "outputs": [],
   "source": [
    "lat_list = []\n",
    "long_list = []\n",
    "for code in code_list:\n",
    "    location = geolocator.geocode(code)\n",
    "    lat_list.append(location.latitude)\n",
    "    long_list.append(location.longitude)"
   ]
  },
  {
   "cell_type": "code",
   "execution_count": 30,
   "metadata": {},
   "outputs": [],
   "source": [
    "import pandas as pd\n",
    "\n",
    "d = {'code':code_list, 'lat':lat_list, 'long':long_list}\n",
    "africa = pd.DataFrame(data=d)"
   ]
  },
  {
   "cell_type": "code",
   "execution_count": 37,
   "metadata": {},
   "outputs": [
    {
     "data": {
      "text/plain": [
       "{'2014-04-23T16:00:00': ['BJ_ETISALAT-AS', 'SS_MTN', 'BJ_BENINTELECOM'],\n",
       " '2015-04-03T08:00:00': ['GA_iPi9', 'GA_Gabon-Telecom'],\n",
       " '2015-03-12T00:00:00': ['GA_iPi9', 'GA_Gabon-Telecom'],\n",
       " '2016-06-26T08:00:00': ['GH_GLOMOBILE', 'GA_Airtel'],\n",
       " '2015-03-01T00:00:00': ['UG_NITA', 'KE_WANANCHI-', 'SS_TELECOM-4G'],\n",
       " '2014-06-05T00:00:00': ['ZM_ZAIN-ZAMBIA',\n",
       "  'CM_ORANGE',\n",
       "  'KE_ACCESSKENYA-KE',\n",
       "  'SC_AirtelSeychelles',\n",
       "  'GH_TIGO-AS',\n",
       "  'CD_CELTEL-DRC',\n",
       "  'GH_zain-as',\n",
       "  'GA_iPi9',\n",
       "  'CM_HTT',\n",
       "  'GH_SCANCOM',\n",
       "  'ZM_ZAMTEL',\n",
       "  'KE_JTL',\n",
       "  'UG_ZAINUGAS',\n",
       "  'NE_ORANGE-NIGER',\n",
       "  'MG_GULFSAT-AS',\n",
       "  'KE_SAFARICOM-LIMITED',\n",
       "  'RW_AIRTEL-',\n",
       "  'RW_tigo-rw-as',\n",
       "  'MZ_moztel-as',\n",
       "  'SZ_SWAZINET',\n",
       "  'GH_SURFLINEGHANAAS',\n",
       "  'CD_Orioncom',\n",
       "  'GH_GLOMOBILE',\n",
       "  'BF_Orange-',\n",
       "  'BJ_BENINTELECOM',\n",
       "  'ML_SOTELMABGP',\n",
       "  'CM_CAMNET-AS',\n",
       "  'MU_MauritiusTelecom',\n",
       "  'UG_SEACOM-AS',\n",
       "  'CD_VODACOM-CONGO',\n",
       "  'SC_CWSeychelles-AS',\n",
       "  'BJ_ISOCEL',\n",
       "  'SS_RCS',\n",
       "  'ZM_afczas',\n",
       "  'ZM_LIQUID-AS',\n",
       "  'DZ_ATM',\n",
       "  'UG_UGANDA-TELECOM',\n",
       "  'ZM_ZAMREN',\n",
       "  'SO_HORMUUD',\n",
       "  'CD_OASIS-SPRL',\n",
       "  'NE_SONITEL',\n",
       "  'LR_LIBTELCO',\n",
       "  'LR_LONESTAR',\n",
       "  'MZ_TVCABO-AS',\n",
       "  'DZ_ALGTEL-AS',\n",
       "  'SZ_REALNET-ASN-1',\n",
       "  'UG_tangerine-ug-as',\n",
       "  'SO_Somcable',\n",
       "  'MG_TGN',\n",
       "  'ZM_MTNZ-AS',\n",
       "  'MZ_TDM-AS',\n",
       "  'UG_SMILE-',\n",
       "  'KE_JAMBONET',\n",
       "  'BJ_ETISALAT-AS',\n",
       "  'UG_RTL-AS',\n",
       "  'UG_ORANGE-',\n",
       "  'GA_Airtel',\n",
       "  'MU_LIQUID-AS',\n",
       "  'TG_ATLANTIQUE-TELECOM-',\n",
       "  'BJ_Spacetel',\n",
       "  'MU_MTML-AS',\n",
       "  'KE_WANANCHI-',\n",
       "  'MZ_mcelISP',\n",
       "  'UG_RENU',\n",
       "  'GH_GHANATEL-AS',\n",
       "  'MU_EMTEL-AS-AP',\n",
       "  'CG_OFIS',\n",
       "  'RW_Olleh-Rwanda-Networks',\n",
       "  'TG_TOGOTEL-AS',\n",
       "  'UG_SIMBANET-AS',\n",
       "  'SC_ASINTELVISION',\n",
       "  'GA_Gabon-Telecom',\n",
       "  'BF_FasoNet-AS',\n",
       "  'KE_Safaricom',\n",
       "  'CG_CongoTelecom',\n",
       "  'TG_CAFENET',\n",
       "  'CD_Congo-Chine',\n",
       "  'RW_LiquidTelecommunicationRwanda',\n",
       "  'ML_IKATELNET',\n",
       "  'DZ_wataniya-telecom-as',\n",
       "  'KE_CKL1-ASN',\n",
       "  'CG_airtelcg',\n",
       "  'SO_ADJIB-AS',\n",
       "  'LR_CELLCOM',\n",
       "  'MG_AIRTELMADA',\n",
       "  'ZM_MICROLINK',\n",
       "  'CF_ORANGE-CA',\n",
       "  'MG_ORANGEMG-AS',\n",
       "  'MZ_MOVITEL',\n",
       "  'SC_NETWORK-LEAPSWITCH-IN',\n",
       "  'MZ_VODACOM-',\n",
       "  'NE_ATLANTIQUE-TELECOM-NIGER',\n",
       "  'SC_QUASINETWORKS',\n",
       "  'SS_ZAIN-South-Sudan',\n",
       "  'ML_AFRIBONEMALI-AS',\n",
       "  'CG_MTN-CONGO',\n",
       "  'SO_TELESOM'],\n",
       " '2019-01-07T08:00:00': ['GA_iPi9', 'GA_Airtel'],\n",
       " '2017-09-15T00:00:00': ['SZ_REALNET-ASN-1', 'SZ_SWAZINET'],\n",
       " '2015-07-28T08:00:00': ['SS_TELECOM-4G', 'MG_AIRTELMADA'],\n",
       " '2018-09-04T00:00:00': ['ZM_MOBILE-BROADBAND', 'ZM_MICROLINK'],\n",
       " '2016-06-04T00:00:00': ['MZ_mcelISP', 'MZ_TDM-AS'],\n",
       " '2015-06-04T00:00:00': ['CG_CongoTelecom', 'GH_TIGO-AS'],\n",
       " '2014-10-29T16:00:00': ['SS_MTN', 'RW_tigo-rw-as'],\n",
       " '2014-10-29T00:00:00': ['SS_MTN', 'CG_CongoTelecom'],\n",
       " '2015-12-16T08:00:00': ['ZM_ZAIN-ZAMBIA',\n",
       "  'CM_ORANGE',\n",
       "  'KE_ACCESSKENYA-KE',\n",
       "  'SC_AirtelSeychelles',\n",
       "  'GH_TIGO-AS',\n",
       "  'CD_CELTEL-DRC',\n",
       "  'GH_zain-as',\n",
       "  'GA_iPi9',\n",
       "  'CM_HTT',\n",
       "  'GH_SCANCOM',\n",
       "  'ZM_ZAMTEL',\n",
       "  'KE_JTL',\n",
       "  'UG_ZAINUGAS',\n",
       "  'UG_MTN-',\n",
       "  'NE_AIRTEL-NIGER',\n",
       "  'NE_ORANGE-NIGER',\n",
       "  'MG_GULFSAT-AS',\n",
       "  'KE_SAFARICOM-LIMITED',\n",
       "  'SO_Somali-Optical-Networks',\n",
       "  'RW_AIRTEL-',\n",
       "  'SS_FastNetAS',\n",
       "  'RW_tigo-rw-as',\n",
       "  'MZ_moztel-as',\n",
       "  'SZ_SWAZINET',\n",
       "  'GH_SURFLINEGHANAAS',\n",
       "  'CD_Orioncom',\n",
       "  'GH_GLOMOBILE',\n",
       "  'BF_Orange-',\n",
       "  'BJ_BENINTELECOM',\n",
       "  'ML_SOTELMABGP',\n",
       "  'CM_CAMNET-AS',\n",
       "  'MU_MauritiusTelecom',\n",
       "  'UG_SEACOM-AS',\n",
       "  'CD_VODACOM-CONGO',\n",
       "  'GW_MTN-Bissau',\n",
       "  'SC_CWSeychelles-AS',\n",
       "  'BJ_ISOCEL',\n",
       "  'SS_RCS',\n",
       "  'ZM_afczas',\n",
       "  'ZM_LIQUID-AS',\n",
       "  'DZ_ATM',\n",
       "  'UG_UGANDA-TELECOM',\n",
       "  'ZM_ZAMREN',\n",
       "  'SO_HORMUUD',\n",
       "  'CD_OASIS-SPRL',\n",
       "  'NE_SONITEL',\n",
       "  'LR_LIBTELCO',\n",
       "  'DZ_Optimum-Telecom-Algeria',\n",
       "  'MZ_TVCABO-AS',\n",
       "  'DZ_ALGTEL-AS',\n",
       "  'SZ_REALNET-ASN-1',\n",
       "  'UG_tangerine-ug-as',\n",
       "  'SO_Somcable',\n",
       "  'MG_TGN',\n",
       "  'ZM_MTNZ-AS',\n",
       "  'SS_IPTECH',\n",
       "  'MZ_TDM-AS',\n",
       "  'UG_SMILE-',\n",
       "  'CD_AFRICELL-DRC',\n",
       "  'KE_JAMBONET',\n",
       "  'SS_TELECOM-4G',\n",
       "  'BJ_ETISALAT-AS',\n",
       "  'UG_RTL-AS',\n",
       "  'UG_ORANGE-',\n",
       "  'GA_Airtel',\n",
       "  'MU_LIQUID-AS',\n",
       "  'TG_ATLANTIQUE-TELECOM-',\n",
       "  'UG_NITA',\n",
       "  'BJ_Spacetel',\n",
       "  'MU_MTML-AS',\n",
       "  'KE_WANANCHI-',\n",
       "  'MZ_mcelISP',\n",
       "  'UG_RENU',\n",
       "  'GH_GHANATEL-AS',\n",
       "  'MU_EMTEL-AS-AP',\n",
       "  'CG_OFIS',\n",
       "  'RW_Olleh-Rwanda-Networks',\n",
       "  'TG_TOGOTEL-AS',\n",
       "  'UG_SIMBANET-AS',\n",
       "  'SC_ASINTELVISION',\n",
       "  'GA_Gabon-Telecom',\n",
       "  'SS_MTN',\n",
       "  'BF_FasoNet-AS',\n",
       "  'KE_Safaricom',\n",
       "  'CG_CongoTelecom',\n",
       "  'TG_CAFENET',\n",
       "  'CD_Congo-Chine',\n",
       "  'RW_LiquidTelecommunicationRwanda',\n",
       "  'CM_VIETTEL-CM-AS',\n",
       "  'ML_IKATELNET',\n",
       "  'DZ_wataniya-telecom-as',\n",
       "  'KE_CKL1-ASN',\n",
       "  'CG_airtelcg',\n",
       "  'SO_ADJIB-AS',\n",
       "  'LR_CELLCOM',\n",
       "  'MG_AIRTELMADA',\n",
       "  'RW_AxiomNET-AS',\n",
       "  'ZM_MICROLINK',\n",
       "  'CF_ORANGE-CA',\n",
       "  'MG_ORANGEMG-AS',\n",
       "  'MZ_MOVITEL',\n",
       "  'SO_SOMTEL',\n",
       "  'SC_NETWORK-LEAPSWITCH-IN',\n",
       "  'MZ_VODACOM-',\n",
       "  'NE_ATLANTIQUE-TELECOM-NIGER',\n",
       "  'SC_QUASINETWORKS',\n",
       "  'SS_ZAIN-South-Sudan',\n",
       "  'ML_AFRIBONEMALI-AS',\n",
       "  'CG_MTN-CONGO',\n",
       "  'RW_MTNRW-ASN',\n",
       "  'SO_TELESOM'],\n",
       " '2015-10-28T00:00:00': ['ZM_afczas', 'SS_TELECOM-4G'],\n",
       " '2015-07-10T00:00:00': ['NE_SONITEL', 'ZM_MICROLINK'],\n",
       " '2016-01-28T08:00:00': ['SO_Somali-Optical-Networks', 'SO_SOMTEL'],\n",
       " '2016-09-25T00:00:00': ['GA_iPi9', 'SS_MTN'],\n",
       " '2017-06-11T08:00:00': ['CG_MTN-CONGO', 'CG_CongoTelecom'],\n",
       " '2014-11-14T00:00:00': ['GA_iPi9', 'MZ_mcelISP'],\n",
       " '2014-12-23T16:00:00': ['GA_iPi9', 'GA_Gabon-Telecom'],\n",
       " '2015-11-03T16:00:00': ['CG_airtelcg', 'CG_CongoTelecom'],\n",
       " '2015-03-09T08:00:00': ['GA_iPi9', 'GA_Gabon-Telecom'],\n",
       " '2015-08-13T00:00:00': ['CG_airtelcg', 'CG_CongoTelecom'],\n",
       " '2015-09-20T16:00:00': ['UG_NITA', 'SS_TELECOM-4G'],\n",
       " '2015-05-20T00:00:00': ['SS_MTN', 'CF_ORANGE-CA'],\n",
       " '2014-05-11T16:00:00': ['SS_MTN', 'UG_RENU'],\n",
       " '2018-02-04T00:00:00': ['CG_airtelcg', 'CG_CongoTelecom'],\n",
       " '2015-03-27T08:00:00': ['LR_LIBTELCO', 'LR_CELLCOM'],\n",
       " '2014-01-19T00:00:00': ['SS_MTN', 'TG_TOGOTEL-AS'],\n",
       " '2017-09-02T00:00:00': ['GW_MTN-Bissau',\n",
       "  'ST_CST-NET-AS',\n",
       "  'GA_iPi9',\n",
       "  'BJ_ISOCEL',\n",
       "  'LR_LIBTELCO',\n",
       "  'GA_Airtel'],\n",
       " '2015-05-27T08:00:00': ['UG_NITA', 'UG_tangerine-ug-as'],\n",
       " '2014-04-02T16:00:00': ['GA_iPi9', 'SS_MTN'],\n",
       " '2014-04-22T00:00:00': ['BJ_ETISALAT-AS', 'SO_TELESOM'],\n",
       " '2014-04-13T00:00:00': ['SS_MTN', 'ZM_ZAMTEL'],\n",
       " '2015-10-25T16:00:00': ['NE_SONITEL', 'CG_MTN-CONGO'],\n",
       " '2017-02-12T16:00:00': ['SS_MTN', 'SS_FastNetAS'],\n",
       " '2016-09-08T00:00:00': ['GA_iPi9', 'SS_MTN'],\n",
       " '2015-04-11T00:00:00': ['CM_ORANGE',\n",
       "  'BJ_BENINTELECOM',\n",
       "  'BJ_ISOCEL',\n",
       "  'CM_CAMNET-AS',\n",
       "  'GA_iPi9',\n",
       "  'BJ_ETISALAT-AS',\n",
       "  'GA_Gabon-Telecom'],\n",
       " '2015-02-25T00:00:00': ['GA_iPi9', 'GA_Gabon-Telecom'],\n",
       " '2015-10-04T08:00:00': ['GA_iPi9', 'SS_TELECOM-4G'],\n",
       " '2014-03-06T00:00:00': ['NE_SONITEL', 'SS_MTN'],\n",
       " '2014-02-01T08:00:00': ['ZM_ZAIN-ZAMBIA',\n",
       "  'CM_ORANGE',\n",
       "  'KE_ACCESSKENYA-KE',\n",
       "  'SC_AirtelSeychelles',\n",
       "  'GH_TIGO-AS',\n",
       "  'CD_CELTEL-DRC',\n",
       "  'GH_zain-as',\n",
       "  'GA_iPi9',\n",
       "  'CM_HTT',\n",
       "  'GH_SCANCOM',\n",
       "  'ZM_ZAMTEL',\n",
       "  'KE_JTL',\n",
       "  'UG_ZAINUGAS',\n",
       "  'NE_ORANGE-NIGER',\n",
       "  'MG_GULFSAT-AS',\n",
       "  'KE_SAFARICOM-LIMITED',\n",
       "  'RW_AIRTEL-',\n",
       "  'RW_tigo-rw-as',\n",
       "  'MZ_moztel-as',\n",
       "  'SZ_SWAZINET',\n",
       "  'CD_Orioncom',\n",
       "  'GH_GLOMOBILE',\n",
       "  'BF_Orange-',\n",
       "  'BJ_BENINTELECOM',\n",
       "  'ML_SOTELMABGP',\n",
       "  'CM_CAMNET-AS',\n",
       "  'MU_MauritiusTelecom',\n",
       "  'UG_SEACOM-AS',\n",
       "  'CD_VODACOM-CONGO',\n",
       "  'SC_CWSeychelles-AS',\n",
       "  'BJ_ISOCEL',\n",
       "  'SS_RCS',\n",
       "  'ZM_afczas',\n",
       "  'ZM_LIQUID-AS',\n",
       "  'UG_UGANDA-TELECOM',\n",
       "  'ZM_ZAMREN',\n",
       "  'SO_HORMUUD',\n",
       "  'CD_OASIS-SPRL',\n",
       "  'NE_SONITEL',\n",
       "  'LR_LIBTELCO',\n",
       "  'LR_LONESTAR',\n",
       "  'MZ_TVCABO-AS',\n",
       "  'DZ_ALGTEL-AS',\n",
       "  'SZ_REALNET-ASN-1',\n",
       "  'UG_tangerine-ug-as',\n",
       "  'SO_Somcable',\n",
       "  'MG_TGN',\n",
       "  'ZM_MTNZ-AS',\n",
       "  'MZ_TDM-AS',\n",
       "  'UG_SMILE-',\n",
       "  'KE_JAMBONET',\n",
       "  'BJ_ETISALAT-AS',\n",
       "  'UG_RTL-AS',\n",
       "  'UG_ORANGE-',\n",
       "  'GA_Airtel',\n",
       "  'MU_LIQUID-AS',\n",
       "  'TG_ATLANTIQUE-TELECOM-',\n",
       "  'BJ_Spacetel',\n",
       "  'MU_MTML-AS',\n",
       "  'KE_WANANCHI-',\n",
       "  'MZ_mcelISP',\n",
       "  'GH_GHANATEL-AS',\n",
       "  'MU_EMTEL-AS-AP',\n",
       "  'CG_OFIS',\n",
       "  'RW_Olleh-Rwanda-Networks',\n",
       "  'TG_TOGOTEL-AS',\n",
       "  'UG_SIMBANET-AS',\n",
       "  'SC_ASINTELVISION',\n",
       "  'GA_Gabon-Telecom',\n",
       "  'BF_FasoNet-AS',\n",
       "  'KE_Safaricom',\n",
       "  'CG_CongoTelecom',\n",
       "  'TG_CAFENET',\n",
       "  'CD_Congo-Chine',\n",
       "  'RW_LiquidTelecommunicationRwanda',\n",
       "  'ML_IKATELNET',\n",
       "  'DZ_wataniya-telecom-as',\n",
       "  'KE_CKL1-ASN',\n",
       "  'CG_airtelcg',\n",
       "  'SO_ADJIB-AS',\n",
       "  'LR_CELLCOM',\n",
       "  'MG_AIRTELMADA',\n",
       "  'ZM_MICROLINK',\n",
       "  'CF_ORANGE-CA',\n",
       "  'MG_ORANGEMG-AS',\n",
       "  'MZ_MOVITEL',\n",
       "  'SC_NETWORK-LEAPSWITCH-IN',\n",
       "  'MZ_VODACOM-',\n",
       "  'SC_QUASINETWORKS',\n",
       "  'SS_ZAIN-South-Sudan',\n",
       "  'ML_AFRIBONEMALI-AS',\n",
       "  'CG_MTN-CONGO',\n",
       "  'SO_TELESOM'],\n",
       " '2014-06-22T00:00:00': ['TG_ATLANTIQUE-TELECOM-', 'TG_CAFENET'],\n",
       " '2015-09-04T16:00:00': ['ZM_ZAIN-ZAMBIA',\n",
       "  'CM_ORANGE',\n",
       "  'KE_ACCESSKENYA-KE',\n",
       "  'SC_AirtelSeychelles',\n",
       "  'GH_TIGO-AS',\n",
       "  'CD_CELTEL-DRC',\n",
       "  'GH_zain-as',\n",
       "  'GA_iPi9',\n",
       "  'CM_HTT',\n",
       "  'GH_SCANCOM',\n",
       "  'ZM_ZAMTEL',\n",
       "  'KE_JTL',\n",
       "  'UG_ZAINUGAS',\n",
       "  'UG_MTN-',\n",
       "  'NE_AIRTEL-NIGER',\n",
       "  'NE_ORANGE-NIGER',\n",
       "  'MG_GULFSAT-AS',\n",
       "  'KE_SAFARICOM-LIMITED',\n",
       "  'SO_Somali-Optical-Networks',\n",
       "  'RW_AIRTEL-',\n",
       "  'SS_FastNetAS',\n",
       "  'RW_tigo-rw-as',\n",
       "  'MZ_moztel-as',\n",
       "  'SZ_SWAZINET',\n",
       "  'GH_SURFLINEGHANAAS',\n",
       "  'CD_Orioncom',\n",
       "  'GH_GLOMOBILE',\n",
       "  'BF_Orange-',\n",
       "  'BJ_BENINTELECOM',\n",
       "  'ML_SOTELMABGP',\n",
       "  'CM_CAMNET-AS',\n",
       "  'MU_MauritiusTelecom',\n",
       "  'UG_SEACOM-AS',\n",
       "  'CD_VODACOM-CONGO',\n",
       "  'GW_MTN-Bissau',\n",
       "  'SC_CWSeychelles-AS',\n",
       "  'BJ_ISOCEL',\n",
       "  'SS_RCS',\n",
       "  'ZM_afczas',\n",
       "  'ZM_LIQUID-AS',\n",
       "  'DZ_ATM',\n",
       "  'UG_UGANDA-TELECOM',\n",
       "  'ZM_ZAMREN',\n",
       "  'SO_HORMUUD',\n",
       "  'CD_OASIS-SPRL',\n",
       "  'NE_SONITEL',\n",
       "  'LR_LIBTELCO',\n",
       "  'LR_LONESTAR',\n",
       "  'MZ_TVCABO-AS',\n",
       "  'DZ_ALGTEL-AS',\n",
       "  'SZ_REALNET-ASN-1',\n",
       "  'UG_tangerine-ug-as',\n",
       "  'SO_Somcable',\n",
       "  'MG_TGN',\n",
       "  'ZM_MTNZ-AS',\n",
       "  'SS_IPTECH',\n",
       "  'MZ_TDM-AS',\n",
       "  'UG_SMILE-',\n",
       "  'CD_AFRICELL-DRC',\n",
       "  'KE_JAMBONET',\n",
       "  'SS_TELECOM-4G',\n",
       "  'BJ_ETISALAT-AS',\n",
       "  'UG_RTL-AS',\n",
       "  'UG_ORANGE-',\n",
       "  'GA_Airtel',\n",
       "  'MU_LIQUID-AS',\n",
       "  'TG_ATLANTIQUE-TELECOM-',\n",
       "  'UG_NITA',\n",
       "  'BJ_Spacetel',\n",
       "  'MU_MTML-AS',\n",
       "  'KE_WANANCHI-',\n",
       "  'MZ_mcelISP',\n",
       "  'UG_RENU',\n",
       "  'GH_GHANATEL-AS',\n",
       "  'MU_EMTEL-AS-AP',\n",
       "  'CG_OFIS',\n",
       "  'RW_Olleh-Rwanda-Networks',\n",
       "  'TG_TOGOTEL-AS',\n",
       "  'UG_SIMBANET-AS',\n",
       "  'SC_ASINTELVISION',\n",
       "  'GA_Gabon-Telecom',\n",
       "  'SS_MTN',\n",
       "  'BF_FasoNet-AS',\n",
       "  'KE_Safaricom',\n",
       "  'CG_CongoTelecom',\n",
       "  'TG_CAFENET',\n",
       "  'CD_Congo-Chine',\n",
       "  'RW_LiquidTelecommunicationRwanda',\n",
       "  'CM_VIETTEL-CM-AS',\n",
       "  'ML_IKATELNET',\n",
       "  'DZ_wataniya-telecom-as',\n",
       "  'KE_CKL1-ASN',\n",
       "  'CG_airtelcg',\n",
       "  'SO_ADJIB-AS',\n",
       "  'LR_CELLCOM',\n",
       "  'MG_AIRTELMADA',\n",
       "  'RW_AxiomNET-AS',\n",
       "  'ZM_MICROLINK',\n",
       "  'CF_ORANGE-CA',\n",
       "  'MG_ORANGEMG-AS',\n",
       "  'MZ_MOVITEL',\n",
       "  'SO_SOMTEL',\n",
       "  'SC_NETWORK-LEAPSWITCH-IN',\n",
       "  'MZ_VODACOM-',\n",
       "  'NE_ATLANTIQUE-TELECOM-NIGER',\n",
       "  'SC_QUASINETWORKS',\n",
       "  'SS_ZAIN-South-Sudan',\n",
       "  'ML_AFRIBONEMALI-AS',\n",
       "  'CG_MTN-CONGO',\n",
       "  'RW_MTNRW-ASN',\n",
       "  'SO_TELESOM'],\n",
       " '2015-08-15T00:00:00': ['TG_TOGOTEL-AS', 'CG_OFIS'],\n",
       " '2014-05-16T00:00:00': ['TG_ATLANTIQUE-TELECOM-', 'TG_CAFENET'],\n",
       " '2015-03-08T00:00:00': ['SS_MTN', 'ZM_ZAMREN'],\n",
       " '2014-05-16T16:00:00': ['CG_airtelcg', 'MZ_mcelISP'],\n",
       " '2018-09-06T00:00:00': ['CM_MTN-NS-CAMEROON', 'CM_ORANGE'],\n",
       " '2018-11-23T16:00:00': ['LR_K3-Telecom-AS', 'ST_CST-NET-AS'],\n",
       " '2015-08-09T00:00:00': ['SS_MTN', 'UG_RENU'],\n",
       " '2014-10-05T00:00:00': ['MZ_mcelISP', 'MZ_TDM-AS'],\n",
       " '2014-05-16T08:00:00': ['SS_MTN',\n",
       "  'UG_tangerine-ug-as',\n",
       "  'NE_ATLANTIQUE-TELECOM-NIGER'],\n",
       " '2014-12-04T00:00:00': ['DZ_ATM', 'SS_FastNetAS'],\n",
       " '2016-09-01T08:00:00': ['GA_iPi9', 'GA_Gabon-Telecom'],\n",
       " '2015-06-02T16:00:00': ['SS_MTN', 'TG_CAFENET'],\n",
       " '2018-11-18T16:00:00': ['LR_K3-Telecom-AS', 'ST_CST-NET-AS'],\n",
       " '2014-10-22T16:00:00': ['RW_LiquidTelecommunicationRwanda',\n",
       "  'MZ_mcelISP',\n",
       "  'MG_AIRTELMADA'],\n",
       " '2018-01-30T00:00:00': ['CG_airtelcg', 'CG_MTN-CONGO', 'CG_CongoTelecom']}"
      ]
     },
     "execution_count": 37,
     "metadata": {},
     "output_type": "execute_result"
    }
   ],
   "source": [
    "outage_groups"
   ]
  },
  {
   "cell_type": "code",
   "execution_count": 57,
   "metadata": {},
   "outputs": [
    {
     "name": "stdout",
     "output_type": "stream",
     "text": [
      "ZM\n",
      "97\n"
     ]
    }
   ],
   "source": [
    "key = '2015-12-16T08:00:00'\n",
    "print(outage_groups[key][0].split('_')[0])\n",
    "print(len(outage_groups[key]))"
   ]
  },
  {
   "cell_type": "code",
   "execution_count": 63,
   "metadata": {},
   "outputs": [
    {
     "name": "stderr",
     "output_type": "stream",
     "text": [
      "/Users/hyungjin/Downloads/country-outage-pop-viz-master/venv/lib/python3.7/site-packages/ipykernel_launcher.py:11: DeprecationWarning:\n",
      "\n",
      "`timeout=None` has been passed to a geocoder call. Using default geocoder timeout. In geopy 2.0 the behavior will be different: None will mean \"no timeout\" instead of \"default geocoder timeout\". Pass geopy.geocoders.base.DEFAULT_SENTINEL instead of None to get rid of this warning.\n",
      "\n",
      "/Users/hyungjin/Downloads/country-outage-pop-viz-master/venv/lib/python3.7/site-packages/ipykernel_launcher.py:15: DeprecationWarning:\n",
      "\n",
      "`timeout=None` has been passed to a geocoder call. Using default geocoder timeout. In geopy 2.0 the behavior will be different: None will mean \"no timeout\" instead of \"default geocoder timeout\". Pass geopy.geocoders.base.DEFAULT_SENTINEL instead of None to get rid of this warning.\n",
      "\n"
     ]
    }
   ],
   "source": [
    "from geopy.exc import GeocoderTimedOut\n",
    "\n",
    "start_lat = []\n",
    "start_lon = []\n",
    "end_lat = []\n",
    "end_lon = []\n",
    "\n",
    "for i in range(len(outage_groups[key])-1):\n",
    "    try:\n",
    "        code = outage_groups[key][i].split('_')[0]\n",
    "        location = geolocator.geocode(code, timeout=None)\n",
    "        start_lat.append(location.latitude)\n",
    "        start_lon.append(location.longitude)\n",
    "        code = outage_groups[key][i+1].split('_')[0]\n",
    "        location = geolocator.geocode(code, timeout=None)\n",
    "        end_lat.append(location.latitude)\n",
    "        end_lon.append(location.longitude)\n",
    "    except GeocoderTimedOut:\n",
    "        continue"
   ]
  },
  {
   "cell_type": "code",
   "execution_count": 65,
   "metadata": {},
   "outputs": [
    {
     "name": "stdout",
     "output_type": "stream",
     "text": [
      "91 91 85 85\n"
     ]
    }
   ],
   "source": [
    "print(len(start_lat), len(start_lon), len(end_lat), len(end_lon))"
   ]
  },
  {
   "cell_type": "code",
   "execution_count": 66,
   "metadata": {},
   "outputs": [],
   "source": [
    "d = {'start_lat':start_lat[:85], 'start_lon':start_lon[:85], 'end_lat':end_lat, 'end_lon':end_lon}\n",
    "africa_as_path = pd.DataFrame(data=d)"
   ]
  },
  {
   "cell_type": "code",
   "execution_count": 67,
   "metadata": {},
   "outputs": [
    {
     "data": {
      "text/html": [
       "<iframe id=\"igraph\" scrolling=\"no\" style=\"border:none;\" seamless=\"seamless\" src=\"https://plot.ly/~HyungJiny/2.embed\" height=\"525px\" width=\"100%\"></iframe>"
      ],
      "text/plain": [
       "<plotly.tools.PlotlyDisplay object>"
      ]
     },
     "execution_count": 67,
     "metadata": {},
     "output_type": "execute_result"
    }
   ],
   "source": [
    "import plotly.plotly as py\n",
    "import pandas as pd\n",
    "\n",
    "airports = [ dict(\n",
    "        type = 'scattergeo',\n",
    "        lon = africa['long'],\n",
    "        lat = africa['lat'],\n",
    "        hoverinfo = 'text',\n",
    "        text = africa['code'],\n",
    "        mode = 'markers',\n",
    "        marker = dict( \n",
    "            size=2, \n",
    "            color='rgb(255, 0, 0)',\n",
    "            line = dict(\n",
    "                width=3,\n",
    "                color='rgba(68, 68, 68, 0)'\n",
    "            )\n",
    "        ))]\n",
    "        \n",
    "flight_paths = []\n",
    "for i in range( len( africa_as_path ) ):\n",
    "    flight_paths.append(\n",
    "        dict(\n",
    "            type = 'scattergeo',\n",
    "            lon = [ africa_as_path['start_lon'][i], africa_as_path['end_lon'][i] ],\n",
    "            lat = [ africa_as_path['start_lat'][i], africa_as_path['end_lat'][i] ],\n",
    "            mode = 'lines',\n",
    "            line = dict(\n",
    "                width = 1,\n",
    "                color = 'red',\n",
    "            )\n",
    "            #opacity = float(africa_as_path['cnt'][i])/float(africa_as_path['cnt'].max()),\n",
    "        )\n",
    "    )\n",
    "    \n",
    "layout = dict(\n",
    "        #title = 'Feb. 2011 American Airline flight paths<br>(Hover for airport names)',\n",
    "        showlegend = False, \n",
    "        geo = dict(\n",
    "            scope='africa',\n",
    "            projection=dict( type='azimuthal equal area' ),\n",
    "            showland = True,\n",
    "            landcolor = 'rgb(243, 243, 243)',\n",
    "            countrycolor = 'rgb(204, 204, 204)',\n",
    "        ),\n",
    "    )\n",
    "    \n",
    "fig = dict( data=flight_paths + airports, layout=layout )\n",
    "py.iplot( fig, filename='d3-flight-paths' )"
   ]
  },
  {
   "cell_type": "code",
   "execution_count": null,
   "metadata": {},
   "outputs": [],
   "source": []
  }
 ],
 "metadata": {
  "kernelspec": {
   "display_name": "Python 3",
   "language": "python",
   "name": "python3"
  },
  "language_info": {
   "codemirror_mode": {
    "name": "ipython",
    "version": 3
   },
   "file_extension": ".py",
   "mimetype": "text/x-python",
   "name": "python",
   "nbconvert_exporter": "python",
   "pygments_lexer": "ipython3",
   "version": "3.7.0"
  }
 },
 "nbformat": 4,
 "nbformat_minor": 2
}
